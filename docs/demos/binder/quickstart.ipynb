{
 "cells": [
  {
   "cell_type": "markdown",
   "metadata": {},
   "source": [
    "<img src=\"https://microsoft.github.io/Accera/assets/Accera_darktext.png\" alt=\"Accera logo\" width=\"600\"/>\n",
    "\n",
    "# Accera Quickstart Example\n",
    "\n",
    "In this example, we will:\n",
    "\n",
    "1. Implement a simple `hello_accera` function that performs basic matrix multiplication with a ReLU activation\n",
    "2. Build a [HAT](https://github.com/microsoft/hat) package with a dynamic (shared) library that exports this function\n",
    "3. Call the `hello_accera` function in the dynamic library with some NumPy arrays, and checks against a NumPy implementation"
   ]
  },
  {
   "cell_type": "markdown",
   "metadata": {},
   "source": [
    "### Setup\n",
    "\n",
    "First, we'll install Accera using `pip`.\n",
    "\n",
    "#### Optional: if running this notebook locally\n",
    "\n",
    "* Linux/macOS: install gcc using `apt install gcc`.\n",
    "* Windows: install Microsoft Visual Studio and run `vcvars64.bat` to setup Visual Studio tools in your `PATH` before starting the Jupyter environment."
   ]
  },
  {
   "cell_type": "code",
   "execution_count": null,
   "metadata": {},
   "outputs": [],
   "source": [
    "!pip install accera"
   ]
  },
  {
   "cell_type": "markdown",
   "metadata": {},
   "source": [
    "### Build your first package\n",
    "\n",
    "We'll build a package called `\"mypackage\"`, containing one function called `\"hello_accera\"`.\n",
    "\n",
    "This function performs the operation `ReLU(C + A @ B)` on arrays `A`, `B`, and `C`."
   ]
  },
  {
   "cell_type": "code",
   "execution_count": null,
   "metadata": {},
   "outputs": [],
   "source": [
    "import accera as acc\n",
    "import hatlib as hat\n",
    "import numpy as np\n",
    "\n",
    "A = acc.Array(role=acc.Array.Role.INPUT, shape=(16, 16))\n",
    "B = acc.Array(role=acc.Array.Role.INPUT, shape=(16, 16))\n",
    "C = acc.Array(role=acc.Array.Role.INPUT_OUTPUT, shape=(16, 16))\n",
    "\n",
    "matmul = acc.Nest(shape=(16, 16, 16))\n",
    "i1, j1, k1 = matmul.get_indices()\n",
    "\n",
    "@matmul.iteration_logic\n",
    "def _():\n",
    "    C[i1, j1] += A[i1, k1] * B[k1, j1]\n",
    "\n",
    "relu = acc.Nest(shape=(16, 16))\n",
    "i2, j2 = relu.get_indices()\n",
    "\n",
    "@relu.iteration_logic\n",
    "def _():\n",
    "    C[i2, j2] = acc.max(C[i2, j2], 0.0)\n",
    "\n",
    "matmul_schedule = matmul.create_schedule()\n",
    "relu_schedule = relu.create_schedule()\n",
    "\n",
    "# fuse the first 2 indices of matmul and relu\n",
    "schedule = acc.fuse(matmul_schedule, relu_schedule, partial=2)\n",
    "\n",
    "package = acc.Package()\n",
    "package.add(schedule, args=(A, B, C), base_name=\"hello_accera\")\n",
    "\n",
    "# build a dynamically-linked HAT package\n",
    "package.build(name=\"mypackage\", format=acc.Package.Format.HAT_DYNAMIC)"
   ]
  },
  {
   "cell_type": "markdown",
   "metadata": {},
   "source": [
    "### Load the package and call the function\n",
    "\n",
    "`package.build` produces a dynamic library (`mypackage_*.so`) that exports the `hello_accera` function. \n",
    "\n",
    "Let's call our function with some NumPy arrays."
   ]
  },
  {
   "cell_type": "code",
   "execution_count": null,
   "metadata": {},
   "outputs": [],
   "source": [
    "# load the package and call the function with random test input\n",
    "hat_package = hat.load(\"mypackage.hat\")\n",
    "hello_accera = hat_package[\"hello_accera\"]\n",
    "\n",
    "A_test = np.random.rand(16, 16).astype(np.float32)\n",
    "B_test = np.random.rand(16, 16).astype(np.float32)\n",
    "C_test = np.zeros((16, 16)).astype(np.float32)\n",
    "\n",
    "# compute using NumPy as a comparison\n",
    "C_np = np.maximum(C_test + A_test @ B_test, 0)\n",
    "\n",
    "hello_accera(A_test, B_test, C_test)\n",
    "\n",
    "# compare the result with NumPy\n",
    "np.testing.assert_allclose(C_test, C_np)\n",
    "print(C_np)\n",
    "print(C_test)"
   ]
  },
  {
   "cell_type": "markdown",
   "metadata": {},
   "source": [
    "### Next Steps\n",
    "\n",
    "The function can be optimized using [schedule transformations](https://microsoft.github.io/Accera/Manual/03%20Schedules/#schedule-transformations). The [Manual](https://microsoft.github.io/Accera/Manual/00%20Introduction/) is a good place to start for an introduction to the Accera programming model.\n",
    "\n",
    "## Documentation\n",
    "Get to know Accera by reading the [Documentation](https://microsoft.github.io/Accera/).\n",
    "\n",
    "You can find more step-by-step examples in the [Tutorials](https://microsoft.github.io/Accera/Tutorials)."
   ]
  }
 ],
 "metadata": {
  "kernelspec": {
   "display_name": "Python 3 (ipykernel)",
   "language": "python",
   "name": "python3"
  },
  "language_info": {
   "codemirror_mode": {
    "name": "ipython",
    "version": 3
   },
   "file_extension": ".py",
   "mimetype": "text/x-python",
   "name": "python",
   "nbconvert_exporter": "python",
   "pygments_lexer": "ipython3",
   "version": "3.8.8"
  }
 },
 "nbformat": 4,
 "nbformat_minor": 2
}
